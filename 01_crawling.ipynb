{
 "cells": [
  {
   "cell_type": "code",
   "execution_count": 2,
   "id": "63784936",
   "metadata": {},
   "outputs": [],
   "source": [
    "#셀레니움 기본 템플릿\n",
    "from selenium import webdriver\n",
    "from selenium.webdriver.common.by import By\n",
    "from selenium.webdriver.common.keys import Keys\n",
    "\n",
    "#데이터 추출 시 활용\n",
    "from bs4 import BeautifulSoup\n",
    "import time\n",
    "\n",
    "#크롬 드라이버 생성\n",
    "driver = webdriver.Chrome()\n",
    "\n",
    "#페이지 이동\n",
    "driver.get('https://map.naver.com/p/entry/place/1220132635?placePath=/home?entry=plt&from=map&fromPanelNum=1&additionalHeight=76&timestamp=202510141633&locale=ko&svcName=map_pcv5&searchType=place&lng=127.1320113&lat=37.4292607&c=15.00,0,0,0,dh')\n"
   ]
  },
  {
   "cell_type": "markdown",
   "id": "4ad05f26",
   "metadata": {},
   "source": [
    "문제 정의 : 긍정/부정 리뷰를 통해 보완점 찾기<br>\n",
    "1.최신순으로 정렬<br>\n",
    "2.무한 스크롤 처리<br>\n",
    "3.id, 내용, 날짜, 시간, 방문 횟수, 키워드 수집"
   ]
  },
  {
   "cell_type": "code",
   "execution_count": 3,
   "id": "c3b9502f",
   "metadata": {},
   "outputs": [],
   "source": [
    "#iframe 제어\n",
    "driver.switch_to.frame('entryIframe')"
   ]
  },
  {
   "cell_type": "code",
   "execution_count": 8,
   "id": "429b778f",
   "metadata": {},
   "outputs": [],
   "source": [
    "#리뷰 클릭\n",
    "driver.find_element(By.CSS_SELECTOR, '#app-root > div > div > div.place_fixed_maintab.place_stuck > div > div > div > div > a:nth-child(3) > span').click()"
   ]
  },
  {
   "cell_type": "code",
   "execution_count": 4,
   "id": "5bbbb016",
   "metadata": {},
   "outputs": [],
   "source": [
    "#1. 최신순으로 정렬\n",
    "# driver.find_element(By.CSS_SELECTOR, '#app-root > div > div > div:nth-child(7) > div:nth-child(3) > div.place_section.k1QQ5 > div.place_section_content > div.fHbwT > div.place_option_area.mlywZ > a:nth-child(2)').click()"
   ]
  },
  {
   "cell_type": "code",
   "execution_count": null,
   "id": "216b0d29",
   "metadata": {},
   "outputs": [],
   "source": [
    "#2. 무한 스크롤 처리\n",
    "\n",
    "for i in range(1,25):\n",
    "        if i == 1:\n",
    "            driver.execute_script('window.scrollTo(0, document.body.scrollHeight)')\n",
    "            time.sleep(1)\n",
    "\n",
    "        elif i in range (2,24):\n",
    "            driver.execute_script('window.scrollTo(0, document.body.scrollHeight-1000)')\n",
    "            time.sleep(1)\n",
    "            try:\n",
    "                more_tag = driver.find_element(By.CSS_SELECTOR, '#app-root > div > div > div:nth-child(7) > div:nth-child(3) > div.place_section.k1QQ5 > div.NSTUp > div > a > span')\n",
    "                more_tag.click()\n",
    "                time.sleep(1)\n",
    "            except:\n",
    "                print(f'{i}번째 더보기 버튼 없음')\n",
    "                 \n",
    "\n",
    "        else:\n",
    "             driver.execute_script('window.scrollTo(0, document.body.scrollHeight)')\n",
    "             time.sleep(1)\n",
    "\n",
    "#keyword버튼 클릭\n",
    "        buttons = driver.find_elements(By.CSS_SELECTOR,'.pui__jhpEyP.pui__ggzZJ8')\n",
    "        for button in buttons:\n",
    "             try:\n",
    "                  driver.execute_script('arguments[0].click()', button)\n",
    "                  time.sleep(0.2)\n",
    "             except:\n",
    "                  continue\n",
    "             \n",
    "             "
   ]
  },
  {
   "cell_type": "code",
   "execution_count": 10,
   "id": "596ab163",
   "metadata": {},
   "outputs": [],
   "source": [
    "html = driver.page_source\n",
    "soup = BeautifulSoup(html, 'html.parser')"
   ]
  },
  {
   "cell_type": "code",
   "execution_count": null,
   "id": "0b31faee",
   "metadata": {},
   "outputs": [],
   "source": [
    "# id, 내용, 날짜, 시간, 방문 횟수, 키워드 수집\n",
    "\n",
    "data = []\n",
    "\n",
    "items = soup.select('.place_apply_pui.EjjAW')\n",
    "for item in items:\n",
    "    id = item.select_one('.pui__NMi-Dp').text\n",
    "    content = item.select_one('.pui__vn15t2').text\n",
    "    visit_dt = item.select_one('.pui__QKE5Pr > .pui__gfuUIT:nth-of-type(1)').contents[2].text\n",
    "    visit_tm = item.select_one('.pui__ETqMYH').text\n",
    "    visit_cnt = item.select_one('.pui__QKE5Pr > .pui__gfuUIT:nth-of-type(2)').text\n",
    "    keyword = item.select_one('.pui__HLNvmI').text.split('요')\n",
    "    # print(id, content, visit_dt, visit_tm, visit_cnt, keyword)\n",
    "    data.append([id, content, visit_dt, visit_tm, visit_cnt, keyword])\n",
    "\n",
    "data"
   ]
  },
  {
   "cell_type": "code",
   "execution_count": null,
   "id": "3bce3733",
   "metadata": {},
   "outputs": [],
   "source": [
    "#excel파일로 저장\n",
    "\n",
    "import pandas as pd\n",
    "df = pd.DataFrame(data, columns=['id', 'content', 'visit_dt', 'visit_tm', 'visit_cnt', 'keyword'])\n",
    "df.to_excel('../data/partyroom_C_review.xlsx', index = False)"
   ]
  },
  {
   "cell_type": "code",
   "execution_count": null,
   "id": "b667ff87",
   "metadata": {},
   "outputs": [],
   "source": []
  }
 ],
 "metadata": {
  "kernelspec": {
   "display_name": "Python 3",
   "language": "python",
   "name": "python3"
  },
  "language_info": {
   "codemirror_mode": {
    "name": "ipython",
    "version": 3
   },
   "file_extension": ".py",
   "mimetype": "text/x-python",
   "name": "python",
   "nbconvert_exporter": "python",
   "pygments_lexer": "ipython3",
   "version": "3.11.5"
  }
 },
 "nbformat": 4,
 "nbformat_minor": 5
}
