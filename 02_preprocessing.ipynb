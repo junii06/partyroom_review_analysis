{
 "cells": [
  {
   "cell_type": "code",
   "execution_count": 24,
   "id": "87d666b2",
   "metadata": {},
   "outputs": [
    {
     "data": {
      "text/html": [
       "<div>\n",
       "<style scoped>\n",
       "    .dataframe tbody tr th:only-of-type {\n",
       "        vertical-align: middle;\n",
       "    }\n",
       "\n",
       "    .dataframe tbody tr th {\n",
       "        vertical-align: top;\n",
       "    }\n",
       "\n",
       "    .dataframe thead th {\n",
       "        text-align: right;\n",
       "    }\n",
       "</style>\n",
       "<table border=\"1\" class=\"dataframe\">\n",
       "  <thead>\n",
       "    <tr style=\"text-align: right;\">\n",
       "      <th></th>\n",
       "      <th>id</th>\n",
       "      <th>content</th>\n",
       "      <th>visit_dt</th>\n",
       "      <th>visit_tm</th>\n",
       "      <th>visit_cnt</th>\n",
       "      <th>keyword</th>\n",
       "    </tr>\n",
       "  </thead>\n",
       "  <tbody>\n",
       "    <tr>\n",
       "      <th>0</th>\n",
       "      <td>임채채</td>\n",
       "      <td>가성비도 있고 분위기좋고 아늑함!연간 행사하기 좋은 성남 최고 파티룸</td>\n",
       "      <td>2025년 9월 26일 금요일</td>\n",
       "      <td>(금,토)올나잇 타임 18~08</td>\n",
       "      <td>1번째 방문</td>\n",
       "      <td>['가성비가 좋아', '인테리어가 멋져', '매장이 넓어', '아늑해', '방음이 ...</td>\n",
       "    </tr>\n",
       "    <tr>\n",
       "      <th>1</th>\n",
       "      <td>kom****</td>\n",
       "      <td>공간이 너무 예쁘고 깔끔해요! 노래방 기계도 최신식이라 노래방이랑 거의 똑같았어요~...</td>\n",
       "      <td>2025년 9월 20일 토요일</td>\n",
       "      <td>(금,토)올나잇 타임 18~08</td>\n",
       "      <td>1번째 방문</td>\n",
       "      <td>['인테리어가 멋져', '시설이 깔끔해', '']</td>\n",
       "    </tr>\n",
       "    <tr>\n",
       "      <th>2</th>\n",
       "      <td>dud****</td>\n",
       "      <td>일요일에 친구들이랑 아이콘 매치를 보려고모란에 파티룸을 찾았는데사장님이 친절하시고 ...</td>\n",
       "      <td>2025년 9월 14일 일요일</td>\n",
       "      <td>(일~목)올나잇 18~08</td>\n",
       "      <td>1번째 방문</td>\n",
       "      <td>['가성비가 좋아', '인테리어가 멋져', '친절해', '컨셉이 독특해', '대화하...</td>\n",
       "    </tr>\n",
       "    <tr>\n",
       "      <th>3</th>\n",
       "      <td>공백13</td>\n",
       "      <td>아버지 환갑행사로 가족들이 많았는데 저희끼리만 단독으로 있어 분위기도 좋고 행사하기...</td>\n",
       "      <td>2025년 9월 13일 토요일</td>\n",
       "      <td>(금,토)올나잇 타임 18~08</td>\n",
       "      <td>1번째 방문</td>\n",
       "      <td>['인테리어가 멋져', '대화하기 좋아', '단체모임 하기 좋아', '시설이 깔끔해...</td>\n",
       "    </tr>\n",
       "    <tr>\n",
       "      <th>4</th>\n",
       "      <td>rha****</td>\n",
       "      <td>세번째 재방문입니당공간도 넓고 인원수 맞춰서 준비해주셔서 너무 좋아용다음에 또 올게...</td>\n",
       "      <td>2025년 9월 8일 월요일</td>\n",
       "      <td>(일~목)올나잇 18~08</td>\n",
       "      <td>1번째 방문</td>\n",
       "      <td>['인테리어가 멋져', '단체모임 하기 좋아', '오래 머무르기 좋아', '시설이 ...</td>\n",
       "    </tr>\n",
       "  </tbody>\n",
       "</table>\n",
       "</div>"
      ],
      "text/plain": [
       "        id                                            content  \\\n",
       "0      임채채             가성비도 있고 분위기좋고 아늑함!연간 행사하기 좋은 성남 최고 파티룸   \n",
       "1  kom****  공간이 너무 예쁘고 깔끔해요! 노래방 기계도 최신식이라 노래방이랑 거의 똑같았어요~...   \n",
       "2  dud****  일요일에 친구들이랑 아이콘 매치를 보려고모란에 파티룸을 찾았는데사장님이 친절하시고 ...   \n",
       "3     공백13  아버지 환갑행사로 가족들이 많았는데 저희끼리만 단독으로 있어 분위기도 좋고 행사하기...   \n",
       "4  rha****  세번째 재방문입니당공간도 넓고 인원수 맞춰서 준비해주셔서 너무 좋아용다음에 또 올게...   \n",
       "\n",
       "           visit_dt           visit_tm visit_cnt  \\\n",
       "0  2025년 9월 26일 금요일  (금,토)올나잇 타임 18~08    1번째 방문   \n",
       "1  2025년 9월 20일 토요일  (금,토)올나잇 타임 18~08    1번째 방문   \n",
       "2  2025년 9월 14일 일요일     (일~목)올나잇 18~08    1번째 방문   \n",
       "3  2025년 9월 13일 토요일  (금,토)올나잇 타임 18~08    1번째 방문   \n",
       "4   2025년 9월 8일 월요일     (일~목)올나잇 18~08    1번째 방문   \n",
       "\n",
       "                                             keyword  \n",
       "0  ['가성비가 좋아', '인테리어가 멋져', '매장이 넓어', '아늑해', '방음이 ...  \n",
       "1                        ['인테리어가 멋져', '시설이 깔끔해', '']  \n",
       "2  ['가성비가 좋아', '인테리어가 멋져', '친절해', '컨셉이 독특해', '대화하...  \n",
       "3  ['인테리어가 멋져', '대화하기 좋아', '단체모임 하기 좋아', '시설이 깔끔해...  \n",
       "4  ['인테리어가 멋져', '단체모임 하기 좋아', '오래 머무르기 좋아', '시설이 ...  "
      ]
     },
     "execution_count": 24,
     "metadata": {},
     "output_type": "execute_result"
    }
   ],
   "source": [
    "import pandas as pd \n",
    "import numpy as np\n",
    "\n",
    "#데이터 불러오기, 확인\n",
    "df = pd.read_excel('../data/partyroom_A_review.xlsx')\n",
    "df.head()"
   ]
  },
  {
   "cell_type": "code",
   "execution_count": 25,
   "id": "fb57b9d7",
   "metadata": {},
   "outputs": [
    {
     "data": {
      "text/html": [
       "<div>\n",
       "<style scoped>\n",
       "    .dataframe tbody tr th:only-of-type {\n",
       "        vertical-align: middle;\n",
       "    }\n",
       "\n",
       "    .dataframe tbody tr th {\n",
       "        vertical-align: top;\n",
       "    }\n",
       "\n",
       "    .dataframe thead th {\n",
       "        text-align: right;\n",
       "    }\n",
       "</style>\n",
       "<table border=\"1\" class=\"dataframe\">\n",
       "  <thead>\n",
       "    <tr style=\"text-align: right;\">\n",
       "      <th></th>\n",
       "      <th>id</th>\n",
       "      <th>content</th>\n",
       "      <th>visit_dt</th>\n",
       "      <th>visit_tm</th>\n",
       "      <th>visit_cnt</th>\n",
       "      <th>keyword</th>\n",
       "    </tr>\n",
       "  </thead>\n",
       "  <tbody>\n",
       "    <tr>\n",
       "      <th>0</th>\n",
       "      <td>42fb897f</td>\n",
       "      <td>가성비도 있고 분위기좋고 아늑함!연간 행사하기 좋은 성남 최고 파티룸</td>\n",
       "      <td>2025년 9월 26일 금요일</td>\n",
       "      <td>(금,토)올나잇 타임 18~08</td>\n",
       "      <td>1번째 방문</td>\n",
       "      <td>['가성비가 좋아', '인테리어가 멋져', '매장이 넓어', '아늑해', '방음이 ...</td>\n",
       "    </tr>\n",
       "    <tr>\n",
       "      <th>1</th>\n",
       "      <td>63462f03</td>\n",
       "      <td>공간이 너무 예쁘고 깔끔해요! 노래방 기계도 최신식이라 노래방이랑 거의 똑같았어요~...</td>\n",
       "      <td>2025년 9월 20일 토요일</td>\n",
       "      <td>(금,토)올나잇 타임 18~08</td>\n",
       "      <td>1번째 방문</td>\n",
       "      <td>['인테리어가 멋져', '시설이 깔끔해', '']</td>\n",
       "    </tr>\n",
       "    <tr>\n",
       "      <th>2</th>\n",
       "      <td>0eefcb04</td>\n",
       "      <td>일요일에 친구들이랑 아이콘 매치를 보려고모란에 파티룸을 찾았는데사장님이 친절하시고 ...</td>\n",
       "      <td>2025년 9월 14일 일요일</td>\n",
       "      <td>(일~목)올나잇 18~08</td>\n",
       "      <td>1번째 방문</td>\n",
       "      <td>['가성비가 좋아', '인테리어가 멋져', '친절해', '컨셉이 독특해', '대화하...</td>\n",
       "    </tr>\n",
       "    <tr>\n",
       "      <th>3</th>\n",
       "      <td>5535e26c</td>\n",
       "      <td>아버지 환갑행사로 가족들이 많았는데 저희끼리만 단독으로 있어 분위기도 좋고 행사하기...</td>\n",
       "      <td>2025년 9월 13일 토요일</td>\n",
       "      <td>(금,토)올나잇 타임 18~08</td>\n",
       "      <td>1번째 방문</td>\n",
       "      <td>['인테리어가 멋져', '대화하기 좋아', '단체모임 하기 좋아', '시설이 깔끔해...</td>\n",
       "    </tr>\n",
       "    <tr>\n",
       "      <th>4</th>\n",
       "      <td>6fbe2063</td>\n",
       "      <td>세번째 재방문입니당공간도 넓고 인원수 맞춰서 준비해주셔서 너무 좋아용다음에 또 올게...</td>\n",
       "      <td>2025년 9월 8일 월요일</td>\n",
       "      <td>(일~목)올나잇 18~08</td>\n",
       "      <td>1번째 방문</td>\n",
       "      <td>['인테리어가 멋져', '단체모임 하기 좋아', '오래 머무르기 좋아', '시설이 ...</td>\n",
       "    </tr>\n",
       "  </tbody>\n",
       "</table>\n",
       "</div>"
      ],
      "text/plain": [
       "         id                                            content  \\\n",
       "0  42fb897f             가성비도 있고 분위기좋고 아늑함!연간 행사하기 좋은 성남 최고 파티룸   \n",
       "1  63462f03  공간이 너무 예쁘고 깔끔해요! 노래방 기계도 최신식이라 노래방이랑 거의 똑같았어요~...   \n",
       "2  0eefcb04  일요일에 친구들이랑 아이콘 매치를 보려고모란에 파티룸을 찾았는데사장님이 친절하시고 ...   \n",
       "3  5535e26c  아버지 환갑행사로 가족들이 많았는데 저희끼리만 단독으로 있어 분위기도 좋고 행사하기...   \n",
       "4  6fbe2063  세번째 재방문입니당공간도 넓고 인원수 맞춰서 준비해주셔서 너무 좋아용다음에 또 올게...   \n",
       "\n",
       "           visit_dt           visit_tm visit_cnt  \\\n",
       "0  2025년 9월 26일 금요일  (금,토)올나잇 타임 18~08    1번째 방문   \n",
       "1  2025년 9월 20일 토요일  (금,토)올나잇 타임 18~08    1번째 방문   \n",
       "2  2025년 9월 14일 일요일     (일~목)올나잇 18~08    1번째 방문   \n",
       "3  2025년 9월 13일 토요일  (금,토)올나잇 타임 18~08    1번째 방문   \n",
       "4   2025년 9월 8일 월요일     (일~목)올나잇 18~08    1번째 방문   \n",
       "\n",
       "                                             keyword  \n",
       "0  ['가성비가 좋아', '인테리어가 멋져', '매장이 넓어', '아늑해', '방음이 ...  \n",
       "1                        ['인테리어가 멋져', '시설이 깔끔해', '']  \n",
       "2  ['가성비가 좋아', '인테리어가 멋져', '친절해', '컨셉이 독특해', '대화하...  \n",
       "3  ['인테리어가 멋져', '대화하기 좋아', '단체모임 하기 좋아', '시설이 깔끔해...  \n",
       "4  ['인테리어가 멋져', '단체모임 하기 좋아', '오래 머무르기 좋아', '시설이 ...  "
      ]
     },
     "execution_count": 25,
     "metadata": {},
     "output_type": "execute_result"
    }
   ],
   "source": [
    "#id 비식별화\n",
    "import hashlib\n",
    "\n",
    "def anonymize_id(x):\n",
    "    return hashlib.sha256(x.encode()).hexdigest()[:8]  # 8자리만 남기기\n",
    "\n",
    "df['id'] = df['id'].apply(anonymize_id)\n",
    "df.head()"
   ]
  },
  {
   "cell_type": "code",
   "execution_count": 26,
   "id": "248a452a",
   "metadata": {},
   "outputs": [
    {
     "name": "stdout",
     "output_type": "stream",
     "text": [
      "<class 'pandas.core.frame.DataFrame'>\n",
      "RangeIndex: 230 entries, 0 to 229\n",
      "Data columns (total 6 columns):\n",
      " #   Column     Non-Null Count  Dtype \n",
      "---  ------     --------------  ----- \n",
      " 0   id         230 non-null    object\n",
      " 1   content    227 non-null    object\n",
      " 2   visit_dt   230 non-null    object\n",
      " 3   visit_tm   133 non-null    object\n",
      " 4   visit_cnt  230 non-null    object\n",
      " 5   keyword    230 non-null    object\n",
      "dtypes: object(6)\n",
      "memory usage: 10.9+ KB\n"
     ]
    }
   ],
   "source": [
    "#데이터 형태 확인\n",
    "df.info()"
   ]
  },
  {
   "cell_type": "code",
   "execution_count": 27,
   "id": "979d3eaa",
   "metadata": {},
   "outputs": [
    {
     "data": {
      "text/plain": [
       "id            0\n",
       "content       3\n",
       "visit_dt      0\n",
       "visit_tm     97\n",
       "visit_cnt     0\n",
       "keyword       0\n",
       "dtype: int64"
      ]
     },
     "execution_count": 27,
     "metadata": {},
     "output_type": "execute_result"
    }
   ],
   "source": [
    "#데이터 결측치 확인\n",
    "df.isnull().sum()"
   ]
  },
  {
   "cell_type": "code",
   "execution_count": 28,
   "id": "b9725cea",
   "metadata": {},
   "outputs": [
    {
     "data": {
      "text/html": [
       "<div>\n",
       "<style scoped>\n",
       "    .dataframe tbody tr th:only-of-type {\n",
       "        vertical-align: middle;\n",
       "    }\n",
       "\n",
       "    .dataframe tbody tr th {\n",
       "        vertical-align: top;\n",
       "    }\n",
       "\n",
       "    .dataframe thead th {\n",
       "        text-align: right;\n",
       "    }\n",
       "</style>\n",
       "<table border=\"1\" class=\"dataframe\">\n",
       "  <thead>\n",
       "    <tr style=\"text-align: right;\">\n",
       "      <th></th>\n",
       "      <th>id</th>\n",
       "      <th>content</th>\n",
       "      <th>visit_dt</th>\n",
       "      <th>visit_tm</th>\n",
       "      <th>visit_cnt</th>\n",
       "      <th>keyword</th>\n",
       "    </tr>\n",
       "  </thead>\n",
       "  <tbody>\n",
       "    <tr>\n",
       "      <th>count</th>\n",
       "      <td>230</td>\n",
       "      <td>227</td>\n",
       "      <td>230</td>\n",
       "      <td>133</td>\n",
       "      <td>230</td>\n",
       "      <td>230</td>\n",
       "    </tr>\n",
       "    <tr>\n",
       "      <th>unique</th>\n",
       "      <td>221</td>\n",
       "      <td>227</td>\n",
       "      <td>203</td>\n",
       "      <td>3</td>\n",
       "      <td>4</td>\n",
       "      <td>151</td>\n",
       "    </tr>\n",
       "    <tr>\n",
       "      <th>top</th>\n",
       "      <td>f084ea86</td>\n",
       "      <td>가성비도 있고 분위기좋고 아늑함!연간 행사하기 좋은 성남 최고 파티룸</td>\n",
       "      <td>2025년 1월 4일 토요일</td>\n",
       "      <td>(금,토)올나잇 타임 18~08</td>\n",
       "      <td>1번째 방문</td>\n",
       "      <td>['']</td>\n",
       "    </tr>\n",
       "    <tr>\n",
       "      <th>freq</th>\n",
       "      <td>3</td>\n",
       "      <td>1</td>\n",
       "      <td>2</td>\n",
       "      <td>48</td>\n",
       "      <td>206</td>\n",
       "      <td>61</td>\n",
       "    </tr>\n",
       "  </tbody>\n",
       "</table>\n",
       "</div>"
      ],
      "text/plain": [
       "              id                                 content         visit_dt  \\\n",
       "count        230                                     227              230   \n",
       "unique       221                                     227              203   \n",
       "top     f084ea86  가성비도 있고 분위기좋고 아늑함!연간 행사하기 좋은 성남 최고 파티룸  2025년 1월 4일 토요일   \n",
       "freq           3                                       1                2   \n",
       "\n",
       "                 visit_tm visit_cnt keyword  \n",
       "count                 133       230     230  \n",
       "unique                  3         4     151  \n",
       "top     (금,토)올나잇 타임 18~08    1번째 방문    ['']  \n",
       "freq                   48       206      61  "
      ]
     },
     "execution_count": 28,
     "metadata": {},
     "output_type": "execute_result"
    }
   ],
   "source": [
    "#문자형 데이터 통계 확인\n",
    "df.describe(include='O')"
   ]
  },
  {
   "cell_type": "code",
   "execution_count": 29,
   "id": "5ca52f99",
   "metadata": {},
   "outputs": [
    {
     "name": "stdout",
     "output_type": "stream",
     "text": [
      "id            0\n",
      "content       3\n",
      "visit_dt      0\n",
      "visit_tm     97\n",
      "visit_cnt     0\n",
      "keyword       0\n",
      "dtype: int64\n",
      "id           0\n",
      "content      0\n",
      "visit_dt     0\n",
      "visit_tm     0\n",
      "visit_cnt    0\n",
      "keyword      0\n",
      "dtype: int64\n"
     ]
    }
   ],
   "source": [
    "#결측치 처리\n",
    "#visit_tm -> 새로운 카테고리(unknown)로 채우기\n",
    "#content -> 새로운 카테고리(내용없음)로 채우기\n",
    "print(df.isnull().sum())\n",
    "df['visit_tm'] = df['visit_tm'].fillna('unknown')\n",
    "df['content'] = df['content'].fillna('내용없음')\n",
    "print(df.isnull().sum())"
   ]
  },
  {
   "cell_type": "code",
   "execution_count": 30,
   "id": "0414a84d",
   "metadata": {},
   "outputs": [
    {
     "name": "stdout",
     "output_type": "stream",
     "text": [
      "<class 'str'>\n"
     ]
    }
   ],
   "source": [
    "#df['keyword'] 형태 확인\n",
    "print(type(df['keyword'][0]))"
   ]
  },
  {
   "cell_type": "code",
   "execution_count": 31,
   "id": "bcec2619",
   "metadata": {},
   "outputs": [
    {
     "data": {
      "text/plain": [
       "0               [가성비가 좋아, 인테리어가 멋져, 매장이 넓어, 아늑해, 방음이 잘돼]\n",
       "1                                    [인테리어가 멋져, 시설이 깔끔해]\n",
       "2             [가성비가 좋아, 인테리어가 멋져, 친절해, 컨셉이 독특해, 대화하기 좋아]\n",
       "3       [인테리어가 멋져, 대화하기 좋아, 단체모임 하기 좋아, 시설이 깔끔해, 조명이 좋아]\n",
       "4      [인테리어가 멋져, 단체모임 하기 좋아, 오래 머무르기 좋아, 시설이 깔끔해, 방음...\n",
       "                             ...                        \n",
       "225                                             [키워드 없음]\n",
       "226                                             [키워드 없음]\n",
       "227                                             [키워드 없음]\n",
       "228                                             [키워드 없음]\n",
       "229                                             [키워드 없음]\n",
       "Name: keyword, Length: 230, dtype: object"
      ]
     },
     "execution_count": 31,
     "metadata": {},
     "output_type": "execute_result"
    }
   ],
   "source": [
    "#df['keyword'] 내 공란('') 제거\n",
    "\n",
    "import ast\n",
    "\n",
    "cleaned_keywords = [] #행별 결과들을 모을 리스트\n",
    "\n",
    "for row in df['keyword']:\n",
    "    try:\n",
    "        #문자열을 리스트로 변환\n",
    "        keywords = ast.literal_eval(row) if isinstance(row, str) else row\n",
    "    except(ValueError, SyntaxError):\n",
    "        keywords = []\n",
    "    \n",
    "    #공백 제거 후 빈 문자열은 제외\n",
    "    cleaned_row = [k.strip() for k in keywords if k.strip() != '']\n",
    "\n",
    "    #비어있으면 '키워드 없음' 대체\n",
    "    if not cleaned_row:\n",
    "        cleaned_row = ['키워드 없음']\n",
    "\n",
    "    cleaned_keywords.append(cleaned_row) #리스트 안의 리스트 구조 유지\n",
    "        \n",
    "df['keyword'] = cleaned_keywords\n",
    "df['keyword']"
   ]
  },
  {
   "cell_type": "code",
   "execution_count": 32,
   "id": "a29223b2",
   "metadata": {},
   "outputs": [
    {
     "name": "stdout",
     "output_type": "stream",
     "text": [
      "<class 'list'>\n"
     ]
    }
   ],
   "source": [
    "#변경된 형태 확인\n",
    "print(type(df['keyword'][0]))"
   ]
  },
  {
   "cell_type": "code",
   "execution_count": 33,
   "id": "a9277cd0",
   "metadata": {},
   "outputs": [],
   "source": [
    "# 전처리 완료 파일 저장\n",
    "df2 = pd.DataFrame(df, columns=['id', 'content', 'visit_dt', 'visit_tm', 'visit_cnt', 'keyword'])\n",
    "df2.to_excel('../data/A_preprocessing.xlsx', index=False)"
   ]
  },
  {
   "cell_type": "code",
   "execution_count": null,
   "id": "fdf89c7b",
   "metadata": {},
   "outputs": [],
   "source": []
  }
 ],
 "metadata": {
  "kernelspec": {
   "display_name": "Python 3",
   "language": "python",
   "name": "python3"
  },
  "language_info": {
   "codemirror_mode": {
    "name": "ipython",
    "version": 3
   },
   "file_extension": ".py",
   "mimetype": "text/x-python",
   "name": "python",
   "nbconvert_exporter": "python",
   "pygments_lexer": "ipython3",
   "version": "3.11.5"
  }
 },
 "nbformat": 4,
 "nbformat_minor": 5
}
